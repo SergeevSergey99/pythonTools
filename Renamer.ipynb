{
 "cells": [
  {
   "cell_type": "code",
   "execution_count": 25,
   "metadata": {
    "collapsed": true
   },
   "outputs": [
    {
     "name": "stdout",
     "output_type": "stream",
     "text": [
      "000.png\n",
      "001.png\n",
      "002.png\n",
      "003.png\n",
      "004.png\n",
      "005.png\n",
      "006.png\n",
      "007.png\n",
      "008.png\n",
      "009.png\n",
      "010.png\n",
      "011.png\n",
      "012.png\n",
      "013.png\n",
      "014.png\n",
      "015.png\n"
     ]
    }
   ],
   "source": [
    "import json\n",
    "import csv\n",
    "import math\n",
    "import os\n",
    "from pathlib import Path\n",
    "import pandas as pd\n",
    "\n",
    "path = \"GG_gifs/Attack/\"\n",
    "files = Path(path).glob('*.png')\n",
    "s = len([f.name for f in files]) - 1\n",
    "files = Path(path).glob('*.png')\n",
    "for file in files:\n",
    "    print(file.name)\n",
    "    num = s - int(file.name.replace(\"tile\",\"\").split(\".\")[0])\n",
    "    strNum = str(num)\n",
    "    if (num < 10):\n",
    "        strNum = \"0\" + strNum\n",
    "    if (num < 100):\n",
    "        strNum = \"0\" + strNum\n",
    "    os.rename(path + file.name, path +\"_\"+ strNum + \".png\")"
   ]
  },
  {
   "cell_type": "code",
   "execution_count": 17,
   "outputs": [],
   "source": [],
   "metadata": {
    "collapsed": false
   }
  }
 ],
 "metadata": {
  "kernelspec": {
   "display_name": "Python 3",
   "language": "python",
   "name": "python3"
  },
  "language_info": {
   "codemirror_mode": {
    "name": "ipython",
    "version": 2
   },
   "file_extension": ".py",
   "mimetype": "text/x-python",
   "name": "python",
   "nbconvert_exporter": "python",
   "pygments_lexer": "ipython2",
   "version": "2.7.6"
  }
 },
 "nbformat": 4,
 "nbformat_minor": 0
}
